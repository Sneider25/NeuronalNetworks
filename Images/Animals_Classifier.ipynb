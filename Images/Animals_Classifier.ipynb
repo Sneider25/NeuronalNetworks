{
 "cells": [
  {
   "cell_type": "markdown",
   "metadata": {},
   "source": [
    "**Clasificación de imágenes de animales**"
   ]
  },
  {
   "cell_type": "code",
   "execution_count": 14,
   "metadata": {},
   "outputs": [],
   "source": [
    "# Importamos las librerias necesarias\n",
    "import pandas as pd\n",
    "import tensorflow as tf\n",
    "from tensorflow.keras.models import Sequential\n",
    "from tensorflow.keras.layers import Dense, Flatten, Conv2D\n",
    "from tensorflow.keras.utils import to_categorical\n",
    "from tensorflow.keras.callbacks import ModelCheckpoint, EarlyStopping\n",
    "from sklearn.model_selection import train_test_split\n",
    "import matplotlib.pyplot as plt"
   ]
  },
  {
   "cell_type": "code",
   "execution_count": 15,
   "metadata": {},
   "outputs": [
    {
     "name": "stdout",
     "output_type": "stream",
     "text": [
      "Son 60000 imágenes de tamaño 28 x 28 píxeles\n",
      "Existen 10 categorias target\n"
     ]
    }
   ],
   "source": [
    "# Cargamos un dataset de prueba de la librería de keras\n",
    "(X_train, y_train), (X_test, y_test) = tf.keras.datasets.mnist.load_data()\n",
    "print(\"Son\", X_train.shape[0], \"imágenes de tamaño\", X_train.shape[1], \"x\", X_train.shape[2], \"píxeles\")\n",
    "\n",
    "# Convertimos los target en una variable categorizada (one hot encoder)\n",
    "y_train = to_categorical(y_train)\n",
    "y_test = to_categorical(y_test)\n",
    "print(\"Existen\", y_train.shape[1], \"categorias target\")\n",
    "\n",
    "# Hacemos un reshape para que encaje en el modelo especificando que son imágenes con solo una capa de píxeles en blanco y negro\n",
    "X_train = X_train[:,:,:,None]\n",
    "X_test = X_test[:,:,:,None]\n",
    "\n",
    "# Separamos la muestra de training en training y validation\n",
    "X_train, X_val, y_train, y_val = train_test_split(X_train, y_train, test_size=0.30, random_state=42)"
   ]
  },
  {
   "cell_type": "code",
   "execution_count": 16,
   "metadata": {},
   "outputs": [
    {
     "data": {
      "text/plain": [
       "<matplotlib.image.AxesImage at 0x150e93a90>"
      ]
     },
     "execution_count": 16,
     "metadata": {},
     "output_type": "execute_result"
    },
    {
     "data": {
      "image/png": "[encoded data removed]",
      "text/plain": [
       "<Figure size 432x288 with 1 Axes>"
      ]
     },
     "metadata": {
      "needs_background": "light"
     },
     "output_type": "display_data"
    }
   ],
   "source": [
    "# Mostramos un ejemplo de cómo son las imágenes\n",
    "plt.imshow(X_train[0],cmap=\"gray\")"
   ]
  },
  {
   "cell_type": "code",
   "execution_count": 17,
   "metadata": {},
   "outputs": [
    {
     "name": "stderr",
     "output_type": "stream",
     "text": [
      "2022-01-26 17:54:37.557723: I tensorflow/core/platform/cpu_feature_guard.cc:151] This TensorFlow binary is optimized with oneAPI Deep Neural Network Library (oneDNN) to use the following CPU instructions in performance-critical operations:  AVX2 FMA\n",
      "To enable them in other operations, rebuild TensorFlow with the appropriate compiler flags.\n"
     ]
    }
   ],
   "source": [
    "# Creamos el modelo añadiendo cada capa\n",
    "model = Sequential(name=\"10C_Classifier\")\n",
    "\n",
    "model.add(Conv2D(64, kernel_size=3, activation='relu', input_shape=X_train.shape[1:]))\n",
    "model.add(Conv2D(32, kernel_size=3, activation='relu'))\n",
    "model.add(Flatten())\n",
    "model.add(Dense(y_train.shape[1], activation='softmax'))\n",
    "\n",
    "# Compilamos empleando el accuracy para medir el funcionamiento del modelo\n",
    "model.compile(optimizer='adam', loss='categorical_crossentropy', metrics=['accuracy'])"
   ]
  },
  {
   "cell_type": "code",
   "execution_count": 20,
   "metadata": {},
   "outputs": [
    {
     "name": "stdout",
     "output_type": "stream",
     "text": [
      "Model: \"10C_Classifier\"\n",
      "_________________________________________________________________\n",
      " Layer (type)                Output Shape              Param #   \n",
      "=================================================================\n",
      " conv2d (Conv2D)             (None, 26, 26, 64)        640       \n",
      "                                                                 \n",
      " conv2d_1 (Conv2D)           (None, 24, 24, 32)        18464     \n",
      "                                                                 \n",
      " flatten (Flatten)           (None, 18432)             0         \n",
      "                                                                 \n",
      " dense (Dense)               (None, 10)                184330    \n",
      "                                                                 \n",
      "=================================================================\n",
      "Total params: 203,434\n",
      "Trainable params: 203,434\n",
      "Non-trainable params: 0\n",
      "_________________________________________________________________\n"
     ]
    }
   ],
   "source": [
    "# Mostramos un resumen de nuestro modelo\n",
    "model.summary()"
   ]
  },
  {
   "cell_type": "code",
   "execution_count": 21,
   "metadata": {},
   "outputs": [
    {
     "name": "stdout",
     "output_type": "stream",
     "text": [
      "Epoch 1/5\n",
      "329/329 [==============================] - 40s 123ms/step - loss: 0.0472 - accuracy: 0.9859 - val_loss: 0.1054 - val_accuracy: 0.9735\n",
      "Epoch 2/5\n",
      "329/329 [==============================] - 42s 127ms/step - loss: 0.0317 - accuracy: 0.9890 - val_loss: 0.1027 - val_accuracy: 0.9752\n",
      "Epoch 3/5\n",
      "329/329 [==============================] - 42s 129ms/step - loss: 0.0217 - accuracy: 0.9928 - val_loss: 0.1285 - val_accuracy: 0.9731\n",
      "Epoch 4/5\n",
      "329/329 [==============================] - 43s 129ms/step - loss: 0.0244 - accuracy: 0.9919 - val_loss: 0.1687 - val_accuracy: 0.9712\n",
      "Epoch 5/5\n",
      "329/329 [==============================] - 43s 131ms/step - loss: 0.0172 - accuracy: 0.9943 - val_loss: 0.1512 - val_accuracy: 0.9763\n"
     ]
    }
   ],
   "source": [
    "# Creamos un callback para guardar el mejor modelo\n",
    "best_model_callback = ModelCheckpoint(\"best_models/best_model_animals.h5\",\n",
    "                                                monitor='val_accuracy',\n",
    "                                                save_best_only=True)\n",
    "\n",
    "# Creamos un callback para parar de entrenear si la variable a monitorizar no mejora más de un 0.01 en 2 epochs \n",
    "early_stopping_callback = EarlyStopping(monitor='val_loss', min_delta=0.01, patience=10, \n",
    "                                            verbose=1, mode='auto')\n",
    "\n",
    "# Entrenamos el modelo\n",
    "hist = model.fit(X_train, y_train,\n",
    "                 validation_data=(X_val, y_val), \n",
    "                 epochs=5,        # epoch: número de veces que verá todos los datos\n",
    "                 batch_size=128, # batch: número de datos que ve por pasada\n",
    "                 callbacks=[early_stopping_callback, best_model_callback],\n",
    "                 verbose=1)\n"
   ]
  },
  {
   "cell_type": "code",
   "execution_count": 22,
   "metadata": {},
   "outputs": [
    {
     "name": "stdout",
     "output_type": "stream",
     "text": [
      "313/313 [==============================] - 2s 8ms/step - loss: 0.1321 - accuracy: 0.9761\n"
     ]
    },
    {
     "data": {
      "text/plain": [
       "[0.1320914328098297, 0.9761000275611877]"
      ]
     },
     "execution_count": 22,
     "metadata": {},
     "output_type": "execute_result"
    }
   ],
   "source": [
    "# Evaluamos el modelo con el dataset de test\n",
    "score = model.evaluate(X_test,y_test)\n",
    "score"
   ]
  },
  {
   "cell_type": "code",
   "execution_count": 23,
   "metadata": {},
   "outputs": [
    {
     "data": {
      "image/png": "[encoded data removed]",
      "text/plain": [
       "<Figure size 432x288 with 1 Axes>"
      ]
     },
     "metadata": {
      "needs_background": "light"
     },
     "output_type": "display_data"
    }
   ],
   "source": [
    "# Mostramos el accuracy en validación y test para las epochs\n",
    "%matplotlib inline\n",
    "\n",
    "# Plot training & validation accuracy values\n",
    "plt.plot(hist.history['accuracy'])\n",
    "plt.plot(hist.history['val_accuracy'])\n",
    "plt.title('Model accuracy')\n",
    "plt.ylabel('Accuracy')\n",
    "plt.xlabel('Epoch')\n",
    "plt.legend(['Train', 'Validation'], loc='upper left')\n",
    "plt.show()"
   ]
  },
  {
   "cell_type": "code",
   "execution_count": 24,
   "metadata": {},
   "outputs": [
    {
     "data": {
      "text/plain": [
       "(10000, 10)"
      ]
     },
     "execution_count": 24,
     "metadata": {},
     "output_type": "execute_result"
    }
   ],
   "source": [
    "# Empleamos el modelo para predecir\n",
    "preds_test = model.predict(X_test)\n",
    "preds_test.shape"
   ]
  },
  {
   "cell_type": "code",
   "execution_count": 25,
   "metadata": {},
   "outputs": [
    {
     "name": "stdout",
     "output_type": "stream",
     "text": [
      "['p(y=0|x) = 0.0000', 'p(y=1|x) = 0.0000', 'p(y=2|x) = 1.0000', 'p(y=3|x) = 0.0000', 'p(y=4|x) = 0.0000', 'p(y=5|x) = 0.0000', 'p(y=6|x) = 0.0000', 'p(y=7|x) = 0.0000', 'p(y=8|x) = 0.0000', 'p(y=9|x) = 0.0000']\n"
     ]
    },
    {
     "data": {
      "image/png": "[encoded data removed]",
      "text/plain": [
       "<Figure size 432x288 with 1 Axes>"
      ]
     },
     "metadata": {
      "needs_background": "light"
     },
     "output_type": "display_data"
    }
   ],
   "source": [
    "# Comprobamos la predicción para un dato en específico\n",
    "idx_mostrar = 1 # Cambiar\n",
    "plt.imshow(X_test[idx_mostrar,:,:,0],cmap=\"gray\",vmin=0,vmax=1)\n",
    "print([\"p(y=%d|x) = %.4f\"%(i,p) for i,p in enumerate(preds_test[idx_mostrar])])"
   ]
  },
  {
   "cell_type": "code",
   "execution_count": null,
   "metadata": {},
   "outputs": [],
   "source": []
  }
 ],
 "metadata": {
  "interpreter": {
   "hash": "a9e8d72b8c6c4480be022b93ed17c9bc5b1a15d8954b84838886355292abb55f"
  },
  "kernelspec": {
   "display_name": "Python 3.9.7 64-bit ('base': conda)",
   "language": "python",
   "name": "python3"
  },
  "language_info": {
   "codemirror_mode": {
    "name": "ipython",
    "version": 3
   },
   "file_extension": ".py",
   "mimetype": "text/x-python",
   "name": "python",
   "nbconvert_exporter": "python",
   "pygments_lexer": "ipython3",
   "version": "3.9.7"
  },
  "orig_nbformat": 4
 },
 "nbformat": 4,
 "nbformat_minor": 2
}
