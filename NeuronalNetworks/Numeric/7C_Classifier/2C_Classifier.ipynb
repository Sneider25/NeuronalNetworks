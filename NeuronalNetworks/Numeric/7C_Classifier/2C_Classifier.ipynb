{
 "cells": [
  {
   "cell_type": "code",
   "execution_count": 62,
   "metadata": {},
   "outputs": [],
   "source": [
    "import pandas as pd\n",
    "import tensorflow as tf\n",
    "from tensorflow.keras import layers, callbacks\n",
    "from sklearn.model_selection import train_test_split\n",
    "import sklearn.datasets as skdata\n",
    "import matplotlib.pyplot as plt"
   ]
  },
  {
   "cell_type": "code",
   "execution_count": 63,
   "metadata": {},
   "outputs": [
    {
     "name": "stdout",
     "output_type": "stream",
     "text": [
      "Son 581012 conjuntos de datos\n",
      "Existen 54 categorias descriptores\n",
      "Existen 7 categorias target\n"
     ]
    }
   ],
   "source": [
    "# Cargamos un dataset de prueba de la librería sklearn\n",
    "X, y = skdata.fetch_covtype(return_X_y=True, random_state=42)\n",
    "y = pd.get_dummies(y).to_numpy()\n",
    "print(\"Son\", X.shape[0], \"conjuntos de datos\")\n",
    "print(\"Existen\", X.shape[1], \"categorias descriptores\")\n",
    "print(\"Existen\", y.shape[1], \"categorias target\")\n",
    "\n",
    "# Separamos la muestra en test y training\n",
    "X_train, X_test, y_train, y_test = train_test_split(X, y, test_size=0.30, random_state=42)\n",
    "\n",
    "# Separamos la muestra de training en training y validation\n",
    "X_train, X_val, y_train, y_val = train_test_split(X_train, y_train, test_size=0.30, random_state=42)"
   ]
  },
  {
   "cell_type": "code",
   "execution_count": 64,
   "metadata": {},
   "outputs": [],
   "source": [
    "# Creamos el modelo añadiendo cada capa \n",
    "input = tf.keras.Input(name='Input', shape=(X.shape[1],))\n",
    "h1 = layers.Dense(name='Dense1', units=500, activation='relu')(input)\n",
    "h2 = layers.Dense(name='Dense2', units=600, activation='relu')(h1)\n",
    "d1 = layers.Dropout(name='Dropout1', rate=0.3)(h2)\n",
    "h3 = layers.Dense(name='Dense3', units=650, activation='relu')(d1)\n",
    "h4 = layers.Dense(name='Dense4', units=400, activation='relu')(h3)\n",
    "d2 = layers.Dropout(name='Dropout2', rate=0.4)(h4)\n",
    "h5 = layers.Dense(name='Dense5', units=200, activation='relu')(d2)\n",
    "d3 = layers.Dropout(name='Dropout3', rate=0.3)(h5)\n",
    "output = layers.Dense(name='Output', units=y.shape[1], activation='softmax')(h5)\n",
    "\n",
    "model=tf.keras.models.Model(inputs=input, outputs=output, name=\"2C_Classification\")\n",
    "\n",
    "# Compilamos empleando el accuracy para medir el funcionamiento del modelo\n",
    "model.compile(optimizer='adam', loss='categorical_crossentropy', metrics=['accuracy'])"
   ]
  },
  {
   "cell_type": "code",
   "execution_count": 65,
   "metadata": {},
   "outputs": [
    {
     "name": "stdout",
     "output_type": "stream",
     "text": [
      "Model: \"2C_Classification\"\n",
      "_________________________________________________________________\n",
      " Layer (type)                Output Shape              Param #   \n",
      "=================================================================\n",
      " Input (InputLayer)          [(None, 54)]              0         \n",
      "                                                                 \n",
      " Dense1 (Dense)              (None, 500)               27500     \n",
      "                                                                 \n",
      " Dense2 (Dense)              (None, 600)               300600    \n",
      "                                                                 \n",
      " Dropout1 (Dropout)          (None, 600)               0         \n",
      "                                                                 \n",
      " Dense3 (Dense)              (None, 650)               390650    \n",
      "                                                                 \n",
      " Dense4 (Dense)              (None, 400)               260400    \n",
      "                                                                 \n",
      " Dropout2 (Dropout)          (None, 400)               0         \n",
      "                                                                 \n",
      " Dense5 (Dense)              (None, 200)               80200     \n",
      "                                                                 \n",
      " Output (Dense)              (None, 7)                 1407      \n",
      "                                                                 \n",
      "=================================================================\n",
      "Total params: 1,060,757\n",
      "Trainable params: 1,060,757\n",
      "Non-trainable params: 0\n",
      "_________________________________________________________________\n"
     ]
    }
   ],
   "source": [
    "# Mostramos un resumen de nuestro modelo\n",
    "model.summary()"
   ]
  },
  {
   "cell_type": "code",
   "execution_count": 66,
   "metadata": {},
   "outputs": [
    {
     "name": "stdout",
     "output_type": "stream",
     "text": [
      "Epoch 1/100\n",
      "284/285 [============================>.] - ETA: 0s - loss: 5.8308 - accuracy: 0.4867\n",
      "Epoch 00001: val_loss improved from inf to 0.90198, saving model to best_model.h5\n",
      "285/285 [==============================] - 13s 45ms/step - loss: 5.8191 - accuracy: 0.4868 - val_loss: 0.9020 - val_accuracy: 0.6037\n",
      "Epoch 2/100\n",
      "285/285 [==============================] - ETA: 0s - loss: 0.9256 - accuracy: 0.5979\n",
      "Epoch 00002: val_loss improved from 0.90198 to 0.79119, saving model to best_model.h5\n",
      "285/285 [==============================] - 13s 45ms/step - loss: 0.9256 - accuracy: 0.5979 - val_loss: 0.7912 - val_accuracy: 0.6656\n",
      "Epoch 3/100\n",
      "284/285 [============================>.] - ETA: 0s - loss: 0.8539 - accuracy: 0.6353\n",
      "Epoch 00003: val_loss improved from 0.79119 to 0.76512, saving model to best_model.h5\n",
      "285/285 [==============================] - 13s 46ms/step - loss: 0.8538 - accuracy: 0.6354 - val_loss: 0.7651 - val_accuracy: 0.6714\n",
      "Epoch 4/100\n",
      "285/285 [==============================] - ETA: 0s - loss: 0.7949 - accuracy: 0.6643\n",
      "Epoch 00004: val_loss improved from 0.76512 to 0.76001, saving model to best_model.h5\n",
      "285/285 [==============================] - 14s 50ms/step - loss: 0.7949 - accuracy: 0.6643 - val_loss: 0.7600 - val_accuracy: 0.6582\n",
      "Epoch 5/100\n",
      "285/285 [==============================] - ETA: 0s - loss: 0.7932 - accuracy: 0.6678\n",
      "Epoch 00005: val_loss did not improve from 0.76001\n",
      "285/285 [==============================] - 13s 47ms/step - loss: 0.7932 - accuracy: 0.6678 - val_loss: 0.7945 - val_accuracy: 0.6196\n",
      "Epoch 6/100\n",
      "285/285 [==============================] - ETA: 0s - loss: 0.7606 - accuracy: 0.6811\n",
      "Epoch 00006: val_loss did not improve from 0.76001\n",
      "285/285 [==============================] - 14s 49ms/step - loss: 0.7606 - accuracy: 0.6811 - val_loss: 0.9730 - val_accuracy: 0.5173\n",
      "Epoch 7/100\n",
      "285/285 [==============================] - ETA: 0s - loss: 0.7372 - accuracy: 0.6925\n",
      "Epoch 00007: val_loss improved from 0.76001 to 0.75651, saving model to best_model.h5\n",
      "285/285 [==============================] - 14s 47ms/step - loss: 0.7372 - accuracy: 0.6925 - val_loss: 0.7565 - val_accuracy: 0.6280\n",
      "Epoch 8/100\n",
      "284/285 [============================>.] - ETA: 0s - loss: 0.7303 - accuracy: 0.6956\n",
      "Epoch 00008: val_loss did not improve from 0.75651\n",
      "285/285 [==============================] - 13s 47ms/step - loss: 0.7303 - accuracy: 0.6955 - val_loss: 0.9055 - val_accuracy: 0.5612\n",
      "Epoch 9/100\n",
      "284/285 [============================>.] - ETA: 0s - loss: 0.7139 - accuracy: 0.7016\n",
      "Epoch 00009: val_loss did not improve from 0.75651\n",
      "285/285 [==============================] - 13s 47ms/step - loss: 0.7138 - accuracy: 0.7017 - val_loss: 0.8977 - val_accuracy: 0.5344\n",
      "Epoch 10/100\n",
      "284/285 [============================>.] - ETA: 0s - loss: 0.7114 - accuracy: 0.7052\n",
      "Epoch 00010: val_loss did not improve from 0.75651\n",
      "285/285 [==============================] - 13s 47ms/step - loss: 0.7114 - accuracy: 0.7051 - val_loss: 0.9456 - val_accuracy: 0.5220\n",
      "Epoch 11/100\n",
      "284/285 [============================>.] - ETA: 0s - loss: 0.6985 - accuracy: 0.7089\n",
      "Epoch 00011: val_loss did not improve from 0.75651\n",
      "285/285 [==============================] - 13s 47ms/step - loss: 0.6984 - accuracy: 0.7089 - val_loss: 0.8114 - val_accuracy: 0.5818\n",
      "Epoch 12/100\n",
      "284/285 [============================>.] - ETA: 0s - loss: 0.6842 - accuracy: 0.7150\n",
      "Epoch 00012: val_loss did not improve from 0.75651\n",
      "285/285 [==============================] - 13s 47ms/step - loss: 0.6843 - accuracy: 0.7150 - val_loss: 0.9675 - val_accuracy: 0.5212\n",
      "Epoch 13/100\n",
      "285/285 [==============================] - ETA: 0s - loss: 0.6731 - accuracy: 0.7205\n",
      "Epoch 00013: val_loss did not improve from 0.75651\n",
      "285/285 [==============================] - 14s 48ms/step - loss: 0.6731 - accuracy: 0.7205 - val_loss: 0.8655 - val_accuracy: 0.5400\n",
      "Epoch 00013: early stopping\n"
     ]
    }
   ],
   "source": [
    "# Creamos un callback para guardar el mejor modelo\n",
    "best_model_callback = callbacks.ModelCheckpoint(\"best_model.h5\",\n",
    "                                                monitor='val_accuracy',\n",
    "                                                save_best_only=True)\n",
    "\n",
    "# Creamos un callback para parar de entrenear si la variable a monitorizar no mejora más de un 0.01 en 2 epochs \n",
    "early_stopping_callback = callbacks.EarlyStopping(monitor='val_loss', min_delta=0.01, patience=10, \n",
    "                                            verbose=1, mode='auto')\n",
    "\n",
    "# Entrenamos el modelo\n",
    "hist = model.fit(X_train, y_train,\n",
    "                 validation_data=(X_val, y_val), \n",
    "                 epochs=100,        # epoch: número de veces que verá todos los datos\n",
    "                 batch_size=1000, # batch: número de datos que ve por pasada\n",
    "                 callbacks=[early_stopping_callback, best_model_callback],\n",
    "                 verbose=1)\n"
   ]
  },
  {
   "cell_type": "code",
   "execution_count": 67,
   "metadata": {},
   "outputs": [
    {
     "name": "stdout",
     "output_type": "stream",
     "text": [
      "5447/5447 [==============================] - 12s 2ms/step - loss: 0.8667 - accuracy: 0.5406\n"
     ]
    },
    {
     "data": {
      "text/plain": [
       "[0.8667015433311462, 0.5405785441398621]"
      ]
     },
     "execution_count": 67,
     "metadata": {},
     "output_type": "execute_result"
    }
   ],
   "source": [
    "# Evaluamos el modelo con el dataset de test\n",
    "score = model.evaluate(X_test,y_test)\n",
    "score"
   ]
  },
  {
   "cell_type": "code",
   "execution_count": 68,
   "metadata": {},
   "outputs": [
    {
     "data": {
      "image/png": "[encoded data removed]",
      "text/plain": [
       "<Figure size 432x288 with 1 Axes>"
      ]
     },
     "metadata": {
      "needs_background": "light"
     },
     "output_type": "display_data"
    }
   ],
   "source": [
    "# Mostramos el accuracy en validación y test para las epochs\n",
    "%matplotlib inline\n",
    "\n",
    "# Plot training & validation accuracy values\n",
    "plt.plot(hist.history['accuracy'])\n",
    "plt.plot(hist.history['val_accuracy'])\n",
    "plt.title('Model accuracy')\n",
    "plt.ylabel('Accuracy')\n",
    "plt.xlabel('Epoch')\n",
    "plt.legend(['Train', 'Validation'], loc='upper left')\n",
    "plt.show()"
   ]
  },
  {
   "cell_type": "code",
   "execution_count": 69,
   "metadata": {},
   "outputs": [
    {
     "data": {
      "text/plain": [
       "(174304, 7)"
      ]
     },
     "execution_count": 69,
     "metadata": {},
     "output_type": "execute_result"
    }
   ],
   "source": [
    "# Empleamos el modelo para predecir\n",
    "preds_test = model.predict(X_test)\n",
    "preds_test.shape"
   ]
  },
  {
   "cell_type": "code",
   "execution_count": 70,
   "metadata": {},
   "outputs": [
    {
     "name": "stdout",
     "output_type": "stream",
     "text": [
      "[0 1 0 0 0 0 0]\n",
      "['p(y=0|x) = 0.0775', 'p(y=1|x) = 0.7405', 'p(y=2|x) = 0.0253', 'p(y=3|x) = 0.0004', 'p(y=4|x) = 0.1191', 'p(y=5|x) = 0.0371', 'p(y=6|x) = 0.0002']\n"
     ]
    }
   ],
   "source": [
    "# Comprobamos la predicción para un dato en específico\n",
    "idx_mostrar = 1 # Cambiar\n",
    "print(y_test[idx_mostrar,])\n",
    "print([\"p(y=%d|x) = %.4f\"%(i,p) for i,p in enumerate(preds_test[idx_mostrar])])"
   ]
  },
  {
   "cell_type": "code",
   "execution_count": null,
   "metadata": {},
   "outputs": [],
   "source": []
  }
 ],
 "metadata": {
  "interpreter": {
   "hash": "a9e8d72b8c6c4480be022b93ed17c9bc5b1a15d8954b84838886355292abb55f"
  },
  "kernelspec": {
   "display_name": "Python 3.9.7 64-bit ('base': conda)",
   "language": "python",
   "name": "python3"
  },
  "language_info": {
   "codemirror_mode": {
    "name": "ipython",
    "version": 3
   },
   "file_extension": ".py",
   "mimetype": "text/x-python",
   "name": "python",
   "nbconvert_exporter": "python",
   "pygments_lexer": "ipython3",
   "version": "3.9.7"
  },
  "orig_nbformat": 4
 },
 "nbformat": 4,
 "nbformat_minor": 2
}
