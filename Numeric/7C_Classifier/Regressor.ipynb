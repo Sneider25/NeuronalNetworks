{
 "cells": [
  {
   "cell_type": "markdown",
   "metadata": {},
   "source": [
    "**Regresión a partir de un dataset numérico**"
   ]
  },
  {
   "cell_type": "code",
   "execution_count": 37,
   "metadata": {},
   "outputs": [],
   "source": [
    "# Importamos las librerias necesarias\n",
    "import pandas as pd\n",
    "import tensorflow as tf\n",
    "from tensorflow.keras import layers, callbacks\n",
    "from sklearn.model_selection import train_test_split\n",
    "import sklearn.datasets as skdata\n",
    "import matplotlib.pyplot as plt"
   ]
  },
  {
   "cell_type": "code",
   "execution_count": 38,
   "metadata": {},
   "outputs": [
    {
     "name": "stdout",
     "output_type": "stream",
     "text": [
      "Son 20640 conjuntos de datos\n",
      "Existen 8 descriptores\n"
     ]
    }
   ],
   "source": [
    "# Cargamos un dataset de prueba de la librería sklearn\n",
    "X, y = skdata.fetch_california_housing(return_X_y=True)\n",
    "print(\"Son\", X.shape[0], \"conjuntos de datos\")\n",
    "print(\"Existen\", X.shape[1], \"descriptores\")\n",
    "\n",
    "# Normalizamos los datos\n",
    "train_stats = train_dataset.describe()\n",
    "train_stats = train_stats.transpose()\n",
    "def norm(x):\n",
    "  return (x - train_stats['mean']) / train_stats['std']\n",
    "\n",
    "\n",
    "# Separamos la muestra en test y training\n",
    "X_train, X_test, y_train, y_test = train_test_split(X, y, test_size=0.30, random_state=42)\n",
    "\n",
    "# Separamos la muestra de training en training y validation\n",
    "X_train, X_val, y_train, y_val = train_test_split(X_train, y_train, test_size=0.30, random_state=42)"
   ]
  },
  {
   "cell_type": "code",
   "execution_count": 39,
   "metadata": {},
   "outputs": [],
   "source": [
    "# Creamos el modelo añadiendo cada capa \n",
    "input = tf.keras.Input(name='Input', shape=(X.shape[1],))\n",
    "h1 = layers.Dense(name='Dense1', units=64, activation='relu', kernel_initializer='normal')(input)\n",
    "h2 = layers.Dense(name='Dense2', units=64, activation='relu', kernel_initializer='normal')(h1)\n",
    "d1 = layers.Dropout(name='Dropout1', rate=0.3)(h2)\n",
    "h3 = layers.Dense(name='Dense3', units=240, activation='relu', kernel_initializer='normal')(d1)\n",
    "h4 = layers.Dense(name='Dense4', units=240, activation='relu', kernel_initializer='normal')(h3)\n",
    "d2 = layers.Dropout(name='Dropout2', rate=0.4)(h4)\n",
    "h5 = layers.Dense(name='Dense5', units=180, activation='relu', kernel_initializer='normal')(d2)\n",
    "d3 = layers.Dropout(name='Dropout3', rate=0.3)(h5)\n",
    "output = layers.Dense(name='Output', units=1, kernel_initializer='normal')(h5)\n",
    "\n",
    "model=tf.keras.models.Model(inputs=input, outputs=output, name=\"Regressor\")\n",
    "\n",
    "# Compilamos empleando el accuracy para medir el funcionamiento del modelo\n",
    "model.compile(optimizer='adam', loss='mean_squared_error', metrics=['accuracy'])"
   ]
  },
  {
   "cell_type": "code",
   "execution_count": 40,
   "metadata": {},
   "outputs": [
    {
     "name": "stdout",
     "output_type": "stream",
     "text": [
      "Model: \"Regressor\"\n",
      "_________________________________________________________________\n",
      " Layer (type)                Output Shape              Param #   \n",
      "=================================================================\n",
      " Input (InputLayer)          [(None, 8)]               0         \n",
      "                                                                 \n",
      " Dense1 (Dense)              (None, 64)                576       \n",
      "                                                                 \n",
      " Dense2 (Dense)              (None, 64)                4160      \n",
      "                                                                 \n",
      " Dropout1 (Dropout)          (None, 64)                0         \n",
      "                                                                 \n",
      " Dense3 (Dense)              (None, 240)               15600     \n",
      "                                                                 \n",
      " Dense4 (Dense)              (None, 240)               57840     \n",
      "                                                                 \n",
      " Dropout2 (Dropout)          (None, 240)               0         \n",
      "                                                                 \n",
      " Dense5 (Dense)              (None, 180)               43380     \n",
      "                                                                 \n",
      " Output (Dense)              (None, 1)                 181       \n",
      "                                                                 \n",
      "=================================================================\n",
      "Total params: 121,737\n",
      "Trainable params: 121,737\n",
      "Non-trainable params: 0\n",
      "_________________________________________________________________\n"
     ]
    }
   ],
   "source": [
    "# Mostramos un resumen de nuestro modelo\n",
    "model.summary()"
   ]
  },
  {
   "cell_type": "code",
   "execution_count": 41,
   "metadata": {},
   "outputs": [
    {
     "name": "stdout",
     "output_type": "stream",
     "text": [
      "Epoch 1/100\n",
      "422/422 [==============================] - 1s 2ms/step - loss: 1.6384 - accuracy: 0.0032 - val_loss: 1.4290 - val_accuracy: 0.0030\n",
      "Epoch 2/100\n",
      "422/422 [==============================] - 1s 2ms/step - loss: 1.2988 - accuracy: 0.0033 - val_loss: 1.1873 - val_accuracy: 0.0030\n",
      "Epoch 3/100\n",
      "422/422 [==============================] - 1s 2ms/step - loss: 1.0115 - accuracy: 0.0033 - val_loss: 0.8983 - val_accuracy: 0.0030\n",
      "Epoch 4/100\n",
      "422/422 [==============================] - 1s 2ms/step - loss: 0.9947 - accuracy: 0.0033 - val_loss: 1.1227 - val_accuracy: 0.0030\n",
      "Epoch 5/100\n",
      "422/422 [==============================] - 1s 2ms/step - loss: 0.9466 - accuracy: 0.0033 - val_loss: 0.7073 - val_accuracy: 0.0030\n",
      "Epoch 6/100\n",
      "422/422 [==============================] - 1s 2ms/step - loss: 0.8137 - accuracy: 0.0033 - val_loss: 0.8160 - val_accuracy: 0.0030\n",
      "Epoch 7/100\n",
      "422/422 [==============================] - 1s 2ms/step - loss: 0.8008 - accuracy: 0.0033 - val_loss: 0.6406 - val_accuracy: 0.0030\n",
      "Epoch 8/100\n",
      "422/422 [==============================] - 1s 2ms/step - loss: 0.6956 - accuracy: 0.0033 - val_loss: 0.9095 - val_accuracy: 0.0030\n",
      "Epoch 9/100\n",
      "422/422 [==============================] - 1s 2ms/step - loss: 0.6629 - accuracy: 0.0033 - val_loss: 0.6236 - val_accuracy: 0.0030\n",
      "Epoch 10/100\n",
      "422/422 [==============================] - 1s 2ms/step - loss: 0.6316 - accuracy: 0.0033 - val_loss: 0.7502 - val_accuracy: 0.0030\n",
      "Epoch 11/100\n",
      "422/422 [==============================] - 1s 2ms/step - loss: 0.6350 - accuracy: 0.0033 - val_loss: 0.7552 - val_accuracy: 0.0030\n",
      "Epoch 12/100\n",
      "422/422 [==============================] - 1s 2ms/step - loss: 0.6251 - accuracy: 0.0033 - val_loss: 0.6983 - val_accuracy: 0.0030\n",
      "Epoch 13/100\n",
      "422/422 [==============================] - 1s 2ms/step - loss: 0.6069 - accuracy: 0.0033 - val_loss: 0.6765 - val_accuracy: 0.0030\n",
      "Epoch 14/100\n",
      "422/422 [==============================] - 1s 2ms/step - loss: 0.5919 - accuracy: 0.0033 - val_loss: 0.6131 - val_accuracy: 0.0030\n",
      "Epoch 15/100\n",
      "422/422 [==============================] - 1s 2ms/step - loss: 0.5807 - accuracy: 0.0033 - val_loss: 0.7451 - val_accuracy: 0.0030\n",
      "Epoch 16/100\n",
      "422/422 [==============================] - 1s 2ms/step - loss: 0.5957 - accuracy: 0.0033 - val_loss: 0.6232 - val_accuracy: 0.0030\n",
      "Epoch 17/100\n",
      "422/422 [==============================] - 1s 2ms/step - loss: 0.5712 - accuracy: 0.0033 - val_loss: 0.6811 - val_accuracy: 0.0030\n",
      "Epoch 18/100\n",
      "422/422 [==============================] - 1s 2ms/step - loss: 0.5713 - accuracy: 0.0033 - val_loss: 0.9319 - val_accuracy: 0.0030\n",
      "Epoch 19/100\n",
      "422/422 [==============================] - 1s 2ms/step - loss: 0.5640 - accuracy: 0.0033 - val_loss: 0.6104 - val_accuracy: 0.0030\n",
      "Epoch 20/100\n",
      "422/422 [==============================] - 1s 2ms/step - loss: 0.5849 - accuracy: 0.0033 - val_loss: 0.5676 - val_accuracy: 0.0030\n",
      "Epoch 21/100\n",
      "422/422 [==============================] - 1s 2ms/step - loss: 0.5523 - accuracy: 0.0033 - val_loss: 0.5863 - val_accuracy: 0.0030\n",
      "Epoch 22/100\n",
      "422/422 [==============================] - 1s 2ms/step - loss: 0.5668 - accuracy: 0.0033 - val_loss: 0.5769 - val_accuracy: 0.0030\n",
      "Epoch 23/100\n",
      "422/422 [==============================] - 1s 2ms/step - loss: 0.5480 - accuracy: 0.0033 - val_loss: 0.6829 - val_accuracy: 0.0030\n",
      "Epoch 24/100\n",
      "422/422 [==============================] - 1s 2ms/step - loss: 0.5519 - accuracy: 0.0033 - val_loss: 0.5842 - val_accuracy: 0.0030\n",
      "Epoch 25/100\n",
      "422/422 [==============================] - 1s 2ms/step - loss: 0.5405 - accuracy: 0.0033 - val_loss: 0.5608 - val_accuracy: 0.0030\n",
      "Epoch 26/100\n",
      "422/422 [==============================] - 1s 2ms/step - loss: 0.5322 - accuracy: 0.0033 - val_loss: 0.6161 - val_accuracy: 0.0030\n",
      "Epoch 27/100\n",
      "422/422 [==============================] - 1s 2ms/step - loss: 0.5407 - accuracy: 0.0033 - val_loss: 0.5338 - val_accuracy: 0.0030\n",
      "Epoch 28/100\n",
      "422/422 [==============================] - 1s 2ms/step - loss: 0.5690 - accuracy: 0.0033 - val_loss: 0.5812 - val_accuracy: 0.0030\n",
      "Epoch 29/100\n",
      "422/422 [==============================] - 1s 2ms/step - loss: 0.5549 - accuracy: 0.0033 - val_loss: 0.6594 - val_accuracy: 0.0030\n",
      "Epoch 30/100\n",
      "422/422 [==============================] - 1s 2ms/step - loss: 0.5702 - accuracy: 0.0033 - val_loss: 0.6818 - val_accuracy: 0.0030\n",
      "Epoch 31/100\n",
      "422/422 [==============================] - 1s 2ms/step - loss: 0.5598 - accuracy: 0.0033 - val_loss: 0.6053 - val_accuracy: 0.0030\n",
      "Epoch 32/100\n",
      "422/422 [==============================] - 1s 2ms/step - loss: 0.5399 - accuracy: 0.0033 - val_loss: 0.6009 - val_accuracy: 0.0030\n",
      "Epoch 33/100\n",
      "422/422 [==============================] - 1s 2ms/step - loss: 0.5508 - accuracy: 0.0033 - val_loss: 0.5783 - val_accuracy: 0.0030\n",
      "Epoch 34/100\n",
      "422/422 [==============================] - 1s 2ms/step - loss: 0.5373 - accuracy: 0.0033 - val_loss: 0.7690 - val_accuracy: 0.0030\n",
      "Epoch 35/100\n",
      "422/422 [==============================] - 1s 2ms/step - loss: 0.5640 - accuracy: 0.0033 - val_loss: 0.5827 - val_accuracy: 0.0030\n",
      "Epoch 36/100\n",
      "422/422 [==============================] - 1s 2ms/step - loss: 0.5199 - accuracy: 0.0033 - val_loss: 0.5816 - val_accuracy: 0.0030\n",
      "Epoch 37/100\n",
      "422/422 [==============================] - 1s 2ms/step - loss: 0.5267 - accuracy: 0.0033 - val_loss: 0.7215 - val_accuracy: 0.0030\n",
      "Epoch 38/100\n",
      "422/422 [==============================] - 1s 2ms/step - loss: 0.5201 - accuracy: 0.0033 - val_loss: 0.6537 - val_accuracy: 0.0030\n",
      "Epoch 39/100\n",
      "422/422 [==============================] - 1s 2ms/step - loss: 0.5253 - accuracy: 0.0033 - val_loss: 0.5761 - val_accuracy: 0.0030\n",
      "Epoch 40/100\n",
      "422/422 [==============================] - 1s 2ms/step - loss: 0.5221 - accuracy: 0.0033 - val_loss: 0.5288 - val_accuracy: 0.0030\n",
      "Epoch 41/100\n",
      "422/422 [==============================] - 1s 3ms/step - loss: 0.5191 - accuracy: 0.0033 - val_loss: 0.5509 - val_accuracy: 0.0030\n",
      "Epoch 42/100\n",
      "422/422 [==============================] - 1s 2ms/step - loss: 0.5191 - accuracy: 0.0033 - val_loss: 0.5580 - val_accuracy: 0.0030\n",
      "Epoch 43/100\n",
      "422/422 [==============================] - 1s 2ms/step - loss: 0.5396 - accuracy: 0.0033 - val_loss: 0.5321 - val_accuracy: 0.0030\n",
      "Epoch 44/100\n",
      "422/422 [==============================] - 1s 3ms/step - loss: 0.5278 - accuracy: 0.0033 - val_loss: 0.5556 - val_accuracy: 0.0030\n",
      "Epoch 45/100\n",
      "422/422 [==============================] - 1s 3ms/step - loss: 0.5528 - accuracy: 0.0033 - val_loss: 0.6094 - val_accuracy: 0.0030\n",
      "Epoch 46/100\n",
      "422/422 [==============================] - 1s 2ms/step - loss: 0.5173 - accuracy: 0.0033 - val_loss: 0.6469 - val_accuracy: 0.0030\n",
      "Epoch 47/100\n",
      "422/422 [==============================] - 1s 2ms/step - loss: 0.5225 - accuracy: 0.0033 - val_loss: 0.5554 - val_accuracy: 0.0030\n",
      "Epoch 48/100\n",
      "422/422 [==============================] - 1s 2ms/step - loss: 0.5251 - accuracy: 0.0033 - val_loss: 0.5361 - val_accuracy: 0.0030\n",
      "Epoch 49/100\n",
      "422/422 [==============================] - 1s 2ms/step - loss: 0.5313 - accuracy: 0.0033 - val_loss: 0.5336 - val_accuracy: 0.0030\n",
      "Epoch 50/100\n",
      "422/422 [==============================] - 1s 2ms/step - loss: 0.5229 - accuracy: 0.0033 - val_loss: 0.5452 - val_accuracy: 0.0030\n",
      "Epoch 51/100\n",
      "422/422 [==============================] - 1s 2ms/step - loss: 0.5107 - accuracy: 0.0033 - val_loss: 0.5798 - val_accuracy: 0.0030\n",
      "Epoch 52/100\n",
      "422/422 [==============================] - 1s 2ms/step - loss: 0.5156 - accuracy: 0.0033 - val_loss: 0.5681 - val_accuracy: 0.0030\n",
      "Epoch 53/100\n",
      "422/422 [==============================] - 1s 2ms/step - loss: 0.5215 - accuracy: 0.0033 - val_loss: 0.5721 - val_accuracy: 0.0030\n",
      "Epoch 54/100\n",
      "422/422 [==============================] - 1s 2ms/step - loss: 0.5168 - accuracy: 0.0033 - val_loss: 0.5498 - val_accuracy: 0.0030\n",
      "Epoch 55/100\n",
      "422/422 [==============================] - 1s 2ms/step - loss: 0.5374 - accuracy: 0.0033 - val_loss: 0.5862 - val_accuracy: 0.0030\n",
      "Epoch 56/100\n",
      "422/422 [==============================] - 1s 2ms/step - loss: 0.5140 - accuracy: 0.0033 - val_loss: 0.7651 - val_accuracy: 0.0030\n",
      "Epoch 57/100\n",
      "422/422 [==============================] - 1s 2ms/step - loss: 0.5165 - accuracy: 0.0033 - val_loss: 0.5608 - val_accuracy: 0.0030\n",
      "Epoch 58/100\n",
      "422/422 [==============================] - 1s 2ms/step - loss: 0.5396 - accuracy: 0.0033 - val_loss: 0.5947 - val_accuracy: 0.0030\n",
      "Epoch 59/100\n",
      "422/422 [==============================] - 1s 2ms/step - loss: 0.4948 - accuracy: 0.0033 - val_loss: 0.5480 - val_accuracy: 0.0030\n",
      "Epoch 60/100\n",
      "422/422 [==============================] - 1s 2ms/step - loss: 0.5104 - accuracy: 0.0033 - val_loss: 0.5703 - val_accuracy: 0.0030\n",
      "Epoch 61/100\n",
      "422/422 [==============================] - 1s 2ms/step - loss: 0.5128 - accuracy: 0.0033 - val_loss: 0.5215 - val_accuracy: 0.0030\n",
      "Epoch 62/100\n",
      "422/422 [==============================] - 1s 2ms/step - loss: 0.5071 - accuracy: 0.0033 - val_loss: 0.5264 - val_accuracy: 0.0030\n",
      "Epoch 63/100\n",
      "422/422 [==============================] - 1s 2ms/step - loss: 0.5234 - accuracy: 0.0033 - val_loss: 0.5461 - val_accuracy: 0.0030\n",
      "Epoch 64/100\n",
      "422/422 [==============================] - 1s 2ms/step - loss: 0.5120 - accuracy: 0.0033 - val_loss: 0.5877 - val_accuracy: 0.0030\n",
      "Epoch 65/100\n",
      "422/422 [==============================] - 1s 2ms/step - loss: 0.5381 - accuracy: 0.0033 - val_loss: 0.6546 - val_accuracy: 0.0030\n",
      "Epoch 66/100\n",
      "422/422 [==============================] - 1s 2ms/step - loss: 0.5267 - accuracy: 0.0033 - val_loss: 0.5348 - val_accuracy: 0.0030\n",
      "Epoch 67/100\n",
      "422/422 [==============================] - 1s 2ms/step - loss: 0.5027 - accuracy: 0.0033 - val_loss: 0.4931 - val_accuracy: 0.0030\n",
      "Epoch 68/100\n",
      "422/422 [==============================] - 1s 2ms/step - loss: 0.5053 - accuracy: 0.0033 - val_loss: 0.5416 - val_accuracy: 0.0030\n",
      "Epoch 69/100\n",
      "422/422 [==============================] - 1s 2ms/step - loss: 0.5017 - accuracy: 0.0033 - val_loss: 0.5691 - val_accuracy: 0.0030\n",
      "Epoch 70/100\n",
      "422/422 [==============================] - 1s 2ms/step - loss: 0.5112 - accuracy: 0.0033 - val_loss: 0.5748 - val_accuracy: 0.0030\n",
      "Epoch 71/100\n",
      "422/422 [==============================] - 1s 2ms/step - loss: 0.5079 - accuracy: 0.0033 - val_loss: 0.5334 - val_accuracy: 0.0030\n",
      "Epoch 72/100\n",
      "422/422 [==============================] - 1s 3ms/step - loss: 0.5060 - accuracy: 0.0033 - val_loss: 0.5487 - val_accuracy: 0.0030\n",
      "Epoch 73/100\n",
      "422/422 [==============================] - 1s 2ms/step - loss: 0.5257 - accuracy: 0.0033 - val_loss: 0.6045 - val_accuracy: 0.0030\n",
      "Epoch 74/100\n",
      "422/422 [==============================] - 1s 2ms/step - loss: 0.4988 - accuracy: 0.0033 - val_loss: 0.5663 - val_accuracy: 0.0030\n",
      "Epoch 75/100\n",
      "422/422 [==============================] - 1s 2ms/step - loss: 0.5093 - accuracy: 0.0033 - val_loss: 0.5316 - val_accuracy: 0.0030\n",
      "Epoch 76/100\n",
      "422/422 [==============================] - 1s 3ms/step - loss: 0.5093 - accuracy: 0.0033 - val_loss: 0.5229 - val_accuracy: 0.0030\n",
      "Epoch 77/100\n",
      "422/422 [==============================] - 1s 2ms/step - loss: 0.5140 - accuracy: 0.0033 - val_loss: 0.5728 - val_accuracy: 0.0030\n",
      "Epoch 78/100\n",
      "422/422 [==============================] - 1s 2ms/step - loss: 0.5006 - accuracy: 0.0033 - val_loss: 0.5180 - val_accuracy: 0.0030\n",
      "Epoch 79/100\n",
      "422/422 [==============================] - 1s 2ms/step - loss: 0.5034 - accuracy: 0.0033 - val_loss: 0.5439 - val_accuracy: 0.0030\n",
      "Epoch 80/100\n",
      "422/422 [==============================] - 1s 3ms/step - loss: 0.5052 - accuracy: 0.0033 - val_loss: 0.5329 - val_accuracy: 0.0030\n",
      "Epoch 81/100\n",
      "422/422 [==============================] - 1s 2ms/step - loss: 0.5011 - accuracy: 0.0033 - val_loss: 0.5568 - val_accuracy: 0.0030\n",
      "Epoch 82/100\n",
      "422/422 [==============================] - 1s 2ms/step - loss: 0.4986 - accuracy: 0.0033 - val_loss: 0.5437 - val_accuracy: 0.0030\n",
      "Epoch 83/100\n",
      "422/422 [==============================] - 1s 2ms/step - loss: 0.5070 - accuracy: 0.0033 - val_loss: 0.5436 - val_accuracy: 0.0030\n",
      "Epoch 84/100\n",
      "422/422 [==============================] - 1s 3ms/step - loss: 0.4995 - accuracy: 0.0033 - val_loss: 0.5530 - val_accuracy: 0.0030\n",
      "Epoch 85/100\n",
      "422/422 [==============================] - 1s 2ms/step - loss: 0.5000 - accuracy: 0.0033 - val_loss: 0.4981 - val_accuracy: 0.0030\n",
      "Epoch 86/100\n",
      "422/422 [==============================] - 1s 2ms/step - loss: 0.5170 - accuracy: 0.0033 - val_loss: 0.5441 - val_accuracy: 0.0030\n",
      "Epoch 87/100\n",
      "422/422 [==============================] - 1s 2ms/step - loss: 0.5049 - accuracy: 0.0033 - val_loss: 0.5633 - val_accuracy: 0.0030\n",
      "Epoch 88/100\n",
      "422/422 [==============================] - 1s 3ms/step - loss: 0.5238 - accuracy: 0.0033 - val_loss: 0.5618 - val_accuracy: 0.0030\n",
      "Epoch 89/100\n",
      "422/422 [==============================] - 1s 2ms/step - loss: 0.5042 - accuracy: 0.0033 - val_loss: 0.6552 - val_accuracy: 0.0030\n",
      "Epoch 90/100\n",
      "422/422 [==============================] - 1s 2ms/step - loss: 0.4993 - accuracy: 0.0033 - val_loss: 0.5051 - val_accuracy: 0.0030\n",
      "Epoch 91/100\n",
      "422/422 [==============================] - 1s 2ms/step - loss: 0.5052 - accuracy: 0.0033 - val_loss: 0.5038 - val_accuracy: 0.0030\n",
      "Epoch 92/100\n",
      "422/422 [==============================] - 1s 2ms/step - loss: 0.4998 - accuracy: 0.0033 - val_loss: 0.5333 - val_accuracy: 0.0030\n",
      "Epoch 93/100\n",
      "422/422 [==============================] - 1s 3ms/step - loss: 0.4928 - accuracy: 0.0033 - val_loss: 0.5074 - val_accuracy: 0.0030\n",
      "Epoch 94/100\n",
      "422/422 [==============================] - 1s 2ms/step - loss: 0.5005 - accuracy: 0.0033 - val_loss: 0.4907 - val_accuracy: 0.0030\n",
      "Epoch 95/100\n",
      "422/422 [==============================] - 1s 2ms/step - loss: 0.4921 - accuracy: 0.0033 - val_loss: 0.5683 - val_accuracy: 0.0030\n",
      "Epoch 96/100\n",
      "422/422 [==============================] - 1s 2ms/step - loss: 0.4960 - accuracy: 0.0033 - val_loss: 0.6237 - val_accuracy: 0.0030\n",
      "Epoch 97/100\n",
      "422/422 [==============================] - 1s 2ms/step - loss: 0.5287 - accuracy: 0.0033 - val_loss: 0.5398 - val_accuracy: 0.0030\n",
      "Epoch 98/100\n",
      "422/422 [==============================] - 1s 2ms/step - loss: 0.5121 - accuracy: 0.0033 - val_loss: 0.4998 - val_accuracy: 0.0030\n",
      "Epoch 99/100\n",
      "422/422 [==============================] - 1s 2ms/step - loss: 0.5024 - accuracy: 0.0033 - val_loss: 0.5537 - val_accuracy: 0.0030\n",
      "Epoch 100/100\n",
      "422/422 [==============================] - 1s 2ms/step - loss: 0.4971 - accuracy: 0.0033 - val_loss: 0.5169 - val_accuracy: 0.0030\n"
     ]
    }
   ],
   "source": [
    "# Creamos un callback para guardar el mejor modelo\n",
    "best_model_callback = callbacks.ModelCheckpoint(\"best_model.h5\",\n",
    "                                                monitor='val_accuracy',\n",
    "                                                save_best_only=True)\n",
    "\n",
    "# Entrenamos el modelo\n",
    "hist = model.fit(X_train, y_train,\n",
    "                 validation_data=(X_val, y_val), \n",
    "                 epochs=100,        # epoch: número de veces que verá todos los datos\n",
    "                 batch_size=24, # batch: número de datos que ve por pasada\n",
    "                 callbacks=[best_model_callback],\n",
    "                 verbose=1)"
   ]
  },
  {
   "cell_type": "code",
   "execution_count": 42,
   "metadata": {},
   "outputs": [
    {
     "name": "stdout",
     "output_type": "stream",
     "text": [
      "194/194 [==============================] - 0s 926us/step - loss: 0.4979 - accuracy: 0.0026\n"
     ]
    },
    {
     "data": {
      "text/plain": [
       "[0.4979105293750763, 0.002583979396149516]"
      ]
     },
     "execution_count": 42,
     "metadata": {},
     "output_type": "execute_result"
    }
   ],
   "source": [
    "# Evaluamos el modelo con el dataset de test\n",
    "score = model.evaluate(X_test,y_test)\n",
    "score"
   ]
  },
  {
   "cell_type": "code",
   "execution_count": 43,
   "metadata": {},
   "outputs": [
    {
     "data": {
      "image/png": "[encoded data removed]",
      "text/plain": [
       "<Figure size 432x288 with 1 Axes>"
      ]
     },
     "metadata": {
      "needs_background": "light"
     },
     "output_type": "display_data"
    }
   ],
   "source": [
    "# Mostramos el accuracy en validación y test para las epochs\n",
    "%matplotlib inline\n",
    "\n",
    "# Plot training & validation accuracy values\n",
    "plt.plot(hist.history['accuracy'])\n",
    "plt.plot(hist.history['val_accuracy'])\n",
    "plt.title('Model accuracy')\n",
    "plt.ylabel('Accuracy')\n",
    "plt.xlabel('Epoch')\n",
    "plt.legend(['Train', 'Validation'], loc='upper left')\n",
    "plt.show()"
   ]
  },
  {
   "cell_type": "code",
   "execution_count": 44,
   "metadata": {},
   "outputs": [
    {
     "data": {
      "text/plain": [
       "(6192, 1)"
      ]
     },
     "execution_count": 44,
     "metadata": {},
     "output_type": "execute_result"
    }
   ],
   "source": [
    "# Empleamos el modelo para predecir\n",
    "preds_test = model.predict(X_test)\n",
    "preds_test.shape"
   ]
  },
  {
   "cell_type": "code",
   "execution_count": 48,
   "metadata": {},
   "outputs": [
    {
     "data": {
      "image/png": "[encoded data removed]",
      "text/plain": [
       "<Figure size 432x288 with 1 Axes>"
      ]
     },
     "metadata": {
      "needs_background": "light"
     },
     "output_type": "display_data"
    }
   ],
   "source": [
    "plt.scatter(y_test, preds_test.flatten())\n",
    "plt.xlabel('True Values')\n",
    "plt.ylabel('Predictions')\n",
    "plt.axis('equal')\n",
    "plt.axis('square')\n",
    "#plt.xlim([0,plt.xlim()[1]])\n",
    "#plt.ylim([0,plt.ylim()[1]])\n",
    "_ = plt.plot([-100, 100], [-100, 100])"
   ]
  },
  {
   "cell_type": "code",
   "execution_count": null,
   "metadata": {},
   "outputs": [],
   "source": []
  }
 ],
 "metadata": {
  "interpreter": {
   "hash": "a9e8d72b8c6c4480be022b93ed17c9bc5b1a15d8954b84838886355292abb55f"
  },
  "kernelspec": {
   "display_name": "Python 3.9.7 64-bit ('base': conda)",
   "language": "python",
   "name": "python3"
  },
  "language_info": {
   "codemirror_mode": {
    "name": "ipython",
    "version": 3
   },
   "file_extension": ".py",
   "mimetype": "text/x-python",
   "name": "python",
   "nbconvert_exporter": "python",
   "pygments_lexer": "ipython3",
   "version": "3.9.7"
  },
  "orig_nbformat": 4
 },
 "nbformat": 4,
 "nbformat_minor": 2
}
