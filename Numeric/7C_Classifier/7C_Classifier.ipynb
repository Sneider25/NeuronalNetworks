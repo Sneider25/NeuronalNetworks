{
 "cells": [
  {
   "cell_type": "markdown",
   "metadata": {},
   "source": [
    "**Clasificación multilabel (7 categorías) para un dataset numérico**"
   ]
  },
  {
   "cell_type": "code",
   "execution_count": 1,
   "metadata": {},
   "outputs": [],
   "source": [
    "# Importamos las librerias necesarias\n",
    "import pandas as pd\n",
    "import tensorflow as tf\n",
    "from tensorflow.keras import layers, callbacks\n",
    "from sklearn.model_selection import train_test_split\n",
    "import sklearn.datasets as skdata\n",
    "import matplotlib.pyplot as plt"
   ]
  },
  {
   "cell_type": "code",
   "execution_count": 2,
   "metadata": {},
   "outputs": [
    {
     "name": "stdout",
     "output_type": "stream",
     "text": [
      "Son 581012 conjuntos de datos\n",
      "Existen 54 categorias descriptores\n",
      "Existen 7 categorias target\n"
     ]
    }
   ],
   "source": [
    "# Cargamos un dataset de prueba de la librería sklearn\n",
    "X, y = skdata.fetch_covtype(return_X_y=True, random_state=42)\n",
    "y = pd.get_dummies(y).to_numpy()\n",
    "print(\"Son\", X.shape[0], \"conjuntos de datos\")\n",
    "print(\"Existen\", X.shape[1], \"categorias descriptores\")\n",
    "print(\"Existen\", y.shape[1], \"categorias target\")\n",
    "\n",
    "# Separamos la muestra en test y training\n",
    "X_train, X_test, y_train, y_test = train_test_split(X, y, test_size=0.30, random_state=42)\n",
    "\n",
    "# Separamos la muestra de training en training y validation\n",
    "X_train, X_val, y_train, y_val = train_test_split(X_train, y_train, test_size=0.30, random_state=42)"
   ]
  },
  {
   "cell_type": "code",
   "execution_count": 3,
   "metadata": {},
   "outputs": [
    {
     "name": "stderr",
     "output_type": "stream",
     "text": [
      "2022-01-26 10:23:59.889691: I tensorflow/core/platform/cpu_feature_guard.cc:151] This TensorFlow binary is optimized with oneAPI Deep Neural Network Library (oneDNN) to use the following CPU instructions in performance-critical operations:  AVX2 FMA\n",
      "To enable them in other operations, rebuild TensorFlow with the appropriate compiler flags.\n"
     ]
    }
   ],
   "source": [
    "# Creamos el modelo añadiendo cada capa \n",
    "input = tf.keras.Input(name='Input', shape=(X.shape[1],))\n",
    "h1 = layers.Dense(name='Dense1', units=500, activation='relu')(input)\n",
    "h2 = layers.Dense(name='Dense2', units=600, activation='relu')(h1)\n",
    "d1 = layers.Dropout(name='Dropout1', rate=0.3)(h2)\n",
    "h3 = layers.Dense(name='Dense3', units=650, activation='relu')(d1)\n",
    "h4 = layers.Dense(name='Dense4', units=400, activation='relu')(h3)\n",
    "d2 = layers.Dropout(name='Dropout2', rate=0.4)(h4)\n",
    "h5 = layers.Dense(name='Dense5', units=200, activation='relu')(d2)\n",
    "d3 = layers.Dropout(name='Dropout3', rate=0.3)(h5)\n",
    "output = layers.Dense(name='Output', units=y.shape[1], activation='softmax')(h5)\n",
    "\n",
    "model=tf.keras.models.Model(inputs=input, outputs=output, name=\"7C_Classification\")\n",
    "\n",
    "# Compilamos empleando el accuracy para medir el funcionamiento del modelo\n",
    "model.compile(optimizer='adam', loss='categorical_crossentropy', metrics=['accuracy'])"
   ]
  },
  {
   "cell_type": "code",
   "execution_count": 4,
   "metadata": {},
   "outputs": [
    {
     "name": "stdout",
     "output_type": "stream",
     "text": [
      "Model: \"7C_Classification\"\n",
      "_________________________________________________________________\n",
      " Layer (type)                Output Shape              Param #   \n",
      "=================================================================\n",
      " Input (InputLayer)          [(None, 54)]              0         \n",
      "                                                                 \n",
      " Dense1 (Dense)              (None, 500)               27500     \n",
      "                                                                 \n",
      " Dense2 (Dense)              (None, 600)               300600    \n",
      "                                                                 \n",
      " Dropout1 (Dropout)          (None, 600)               0         \n",
      "                                                                 \n",
      " Dense3 (Dense)              (None, 650)               390650    \n",
      "                                                                 \n",
      " Dense4 (Dense)              (None, 400)               260400    \n",
      "                                                                 \n",
      " Dropout2 (Dropout)          (None, 400)               0         \n",
      "                                                                 \n",
      " Dense5 (Dense)              (None, 200)               80200     \n",
      "                                                                 \n",
      " Output (Dense)              (None, 7)                 1407      \n",
      "                                                                 \n",
      "=================================================================\n",
      "Total params: 1,060,757\n",
      "Trainable params: 1,060,757\n",
      "Non-trainable params: 0\n",
      "_________________________________________________________________\n"
     ]
    }
   ],
   "source": [
    "# Mostramos un resumen de nuestro modelo\n",
    "model.summary()"
   ]
  },
  {
   "cell_type": "code",
   "execution_count": 5,
   "metadata": {},
   "outputs": [
    {
     "name": "stdout",
     "output_type": "stream",
     "text": [
      "Epoch 1/100\n",
      "285/285 [==============================] - 15s 51ms/step - loss: 4.6564 - accuracy: 0.4714 - val_loss: 0.9787 - val_accuracy: 0.6051\n",
      "Epoch 2/100\n",
      "285/285 [==============================] - 14s 51ms/step - loss: 0.9108 - accuracy: 0.6080 - val_loss: 0.8073 - val_accuracy: 0.6855\n",
      "Epoch 3/100\n",
      "285/285 [==============================] - 14s 50ms/step - loss: 0.8273 - accuracy: 0.6480 - val_loss: 0.7534 - val_accuracy: 0.6851\n",
      "Epoch 4/100\n",
      "285/285 [==============================] - 15s 52ms/step - loss: 0.7762 - accuracy: 0.6705 - val_loss: 0.7331 - val_accuracy: 0.6800\n",
      "Epoch 5/100\n",
      "285/285 [==============================] - 16s 57ms/step - loss: 0.7492 - accuracy: 0.6825 - val_loss: 0.7746 - val_accuracy: 0.6273\n",
      "Epoch 6/100\n",
      "285/285 [==============================] - 16s 55ms/step - loss: 0.7339 - accuracy: 0.6890 - val_loss: 0.8515 - val_accuracy: 0.5732\n",
      "Epoch 7/100\n",
      "285/285 [==============================] - 15s 51ms/step - loss: 0.7259 - accuracy: 0.6932 - val_loss: 0.7980 - val_accuracy: 0.5875\n",
      "Epoch 8/100\n",
      "285/285 [==============================] - 15s 52ms/step - loss: 0.7179 - accuracy: 0.6976 - val_loss: 0.8764 - val_accuracy: 0.5640\n",
      "Epoch 9/100\n",
      "285/285 [==============================] - 14s 49ms/step - loss: 0.7228 - accuracy: 0.6971 - val_loss: 0.8089 - val_accuracy: 0.5820\n",
      "Epoch 10/100\n",
      "285/285 [==============================] - 14s 51ms/step - loss: 0.7008 - accuracy: 0.7087 - val_loss: 0.7863 - val_accuracy: 0.5984\n",
      "Epoch 11/100\n",
      "285/285 [==============================] - 14s 49ms/step - loss: 0.6767 - accuracy: 0.7167 - val_loss: 0.8281 - val_accuracy: 0.5564\n",
      "Epoch 12/100\n",
      "285/285 [==============================] - 13s 44ms/step - loss: 0.6683 - accuracy: 0.7211 - val_loss: 0.8159 - val_accuracy: 0.5853\n",
      "Epoch 13/100\n",
      "285/285 [==============================] - 13s 45ms/step - loss: 0.6670 - accuracy: 0.7208 - val_loss: 0.8346 - val_accuracy: 0.5666\n",
      "Epoch 14/100\n",
      "285/285 [==============================] - 13s 46ms/step - loss: 0.6565 - accuracy: 0.7254 - val_loss: 0.8926 - val_accuracy: 0.5453\n",
      "Epoch 00014: early stopping\n"
     ]
    }
   ],
   "source": [
    "# Creamos un callback para guardar el mejor modelo\n",
    "best_model_callback = callbacks.ModelCheckpoint(\"best_model.h5\",\n",
    "                                                monitor='val_accuracy',\n",
    "                                                save_best_only=True)\n",
    "\n",
    "# Creamos un callback para parar de entrenear si la variable a monitorizar no mejora más de un 0.01 en 2 epochs \n",
    "early_stopping_callback = callbacks.EarlyStopping(monitor='val_loss', min_delta=0.01, patience=10, \n",
    "                                            verbose=1, mode='auto')\n",
    "\n",
    "# Entrenamos el modelo\n",
    "hist = model.fit(X_train, y_train,\n",
    "                 validation_data=(X_val, y_val), \n",
    "                 epochs=100,        # epoch: número de veces que verá todos los datos\n",
    "                 batch_size=1000, # batch: número de datos que ve por pasada\n",
    "                 callbacks=[early_stopping_callback, best_model_callback],\n",
    "                 verbose=1)\n"
   ]
  },
  {
   "cell_type": "code",
   "execution_count": 6,
   "metadata": {},
   "outputs": [
    {
     "name": "stdout",
     "output_type": "stream",
     "text": [
      "5447/5447 [==============================] - 13s 2ms/step - loss: 0.8954 - accuracy: 0.5456\n"
     ]
    },
    {
     "data": {
      "text/plain": [
       "[0.895379900932312, 0.5455640554428101]"
      ]
     },
     "execution_count": 6,
     "metadata": {},
     "output_type": "execute_result"
    }
   ],
   "source": [
    "# Evaluamos el modelo con el dataset de test\n",
    "score = model.evaluate(X_test,y_test)\n",
    "score"
   ]
  },
  {
   "cell_type": "code",
   "execution_count": 7,
   "metadata": {},
   "outputs": [
    {
     "data": {
      "image/png": "[encoded data removed]",
      "text/plain": [
       "<Figure size 432x288 with 1 Axes>"
      ]
     },
     "metadata": {
      "needs_background": "light"
     },
     "output_type": "display_data"
    }
   ],
   "source": [
    "# Mostramos el accuracy en validación y test para las epochs\n",
    "%matplotlib inline\n",
    "\n",
    "# Plot training & validation accuracy values\n",
    "plt.plot(hist.history['accuracy'])\n",
    "plt.plot(hist.history['val_accuracy'])\n",
    "plt.title('Model accuracy')\n",
    "plt.ylabel('Accuracy')\n",
    "plt.xlabel('Epoch')\n",
    "plt.legend(['Train', 'Validation'], loc='upper left')\n",
    "plt.show()"
   ]
  },
  {
   "cell_type": "code",
   "execution_count": 8,
   "metadata": {},
   "outputs": [
    {
     "data": {
      "text/plain": [
       "(174304, 7)"
      ]
     },
     "execution_count": 8,
     "metadata": {},
     "output_type": "execute_result"
    }
   ],
   "source": [
    "# Empleamos el modelo para predecir\n",
    "preds_test = model.predict(X_test)\n",
    "preds_test.shape"
   ]
  },
  {
   "cell_type": "code",
   "execution_count": 9,
   "metadata": {},
   "outputs": [
    {
     "name": "stdout",
     "output_type": "stream",
     "text": [
      "[0 1 0 0 0 0 0]\n",
      "['p(y=0|x) = 0.0542', 'p(y=1|x) = 0.8742', 'p(y=2|x) = 0.0035', 'p(y=3|x) = 0.0000', 'p(y=4|x) = 0.0623', 'p(y=5|x) = 0.0056', 'p(y=6|x) = 0.0001']\n"
     ]
    }
   ],
   "source": [
    "# Comprobamos la predicción para un dato en específico\n",
    "idx_mostrar = 1 # Cambiar\n",
    "print(y_test[idx_mostrar,])\n",
    "print([\"p(y=%d|x) = %.4f\"%(i,p) for i,p in enumerate(preds_test[idx_mostrar])])"
   ]
  },
  {
   "cell_type": "code",
   "execution_count": null,
   "metadata": {},
   "outputs": [],
   "source": []
  }
 ],
 "metadata": {
  "interpreter": {
   "hash": "a9e8d72b8c6c4480be022b93ed17c9bc5b1a15d8954b84838886355292abb55f"
  },
  "kernelspec": {
   "display_name": "Python 3.9.7 64-bit ('base': conda)",
   "language": "python",
   "name": "python3"
  },
  "language_info": {
   "codemirror_mode": {
    "name": "ipython",
    "version": 3
   },
   "file_extension": ".py",
   "mimetype": "text/x-python",
   "name": "python",
   "nbconvert_exporter": "python",
   "pygments_lexer": "ipython3",
   "version": "3.9.7"
  },
  "orig_nbformat": 4
 },
 "nbformat": 4,
 "nbformat_minor": 2
}
