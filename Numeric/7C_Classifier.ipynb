{
 "cells": [
  {
   "cell_type": "code",
   "execution_count": 10,
   "metadata": {},
   "outputs": [],
   "source": [
    "# Importamos las librerias necesarias\n",
    "import pandas as pd\n",
    "import tensorflow as tf\n",
    "from tensorflow.keras import layers, callbacks\n",
    "from sklearn.model_selection import train_test_split\n",
    "import sklearn.datasets as skdata\n",
    "import matplotlib.pyplot as plt"
   ]
  },
  {
   "cell_type": "code",
   "execution_count": 11,
   "metadata": {},
   "outputs": [
    {
     "name": "stdout",
     "output_type": "stream",
     "text": [
      "Son 581012 conjuntos de datos\n",
      "Existen 54 categorias descriptores\n",
      "Existen 7 categorias target\n"
     ]
    }
   ],
   "source": [
    "# Cargamos un dataset de prueba de la librería sklearn\n",
    "X, y = skdata.fetch_covtype(return_X_y=True, random_state=42)\n",
    "y = pd.get_dummies(y).to_numpy()\n",
    "print(\"Son\", X.shape[0], \"conjuntos de datos\")\n",
    "print(\"Existen\", X.shape[1], \"categorias descriptores\")\n",
    "print(\"Existen\", y.shape[1], \"categorias target\")\n",
    "\n",
    "# Separamos la muestra en test y training\n",
    "X_train, X_test, y_train, y_test = train_test_split(X, y, test_size=0.30, random_state=42)\n",
    "\n",
    "# Separamos la muestra de training en training y validation\n",
    "X_train, X_val, y_train, y_val = train_test_split(X_train, y_train, test_size=0.30, random_state=42)"
   ]
  },
  {
   "cell_type": "code",
   "execution_count": 12,
   "metadata": {},
   "outputs": [],
   "source": [
    "# Creamos el modelo añadiendo cada capa \n",
    "input = tf.keras.Input(name='Input', shape=(X.shape[1],))\n",
    "h1 = layers.Dense(name='Dense1', units=500, activation='relu')(input)\n",
    "h2 = layers.Dense(name='Dense2', units=600, activation='relu')(h1)\n",
    "d1 = layers.Dropout(name='Dropout1', rate=0.3)(h2)\n",
    "h3 = layers.Dense(name='Dense3', units=650, activation='relu')(d1)\n",
    "h4 = layers.Dense(name='Dense4', units=400, activation='relu')(h3)\n",
    "d2 = layers.Dropout(name='Dropout2', rate=0.4)(h4)\n",
    "h5 = layers.Dense(name='Dense5', units=200, activation='relu')(d2)\n",
    "d3 = layers.Dropout(name='Dropout3', rate=0.3)(h5)\n",
    "output = layers.Dense(name='Output', units=y.shape[1], activation='softmax')(h5)\n",
    "\n",
    "model=tf.keras.models.Model(inputs=input, outputs=output, name=\"7C_Classification\")\n",
    "\n",
    "# Compilamos empleando el accuracy para medir el funcionamiento del modelo\n",
    "model.compile(optimizer='adam', loss='categorical_crossentropy', metrics=['accuracy'])"
   ]
  },
  {
   "cell_type": "code",
   "execution_count": 13,
   "metadata": {},
   "outputs": [
    {
     "name": "stdout",
     "output_type": "stream",
     "text": [
      "Model: \"7C_Classification\"\n",
      "_________________________________________________________________\n",
      " Layer (type)                Output Shape              Param #   \n",
      "=================================================================\n",
      " Input (InputLayer)          [(None, 54)]              0         \n",
      "                                                                 \n",
      " Dense1 (Dense)              (None, 500)               27500     \n",
      "                                                                 \n",
      " Dense2 (Dense)              (None, 600)               300600    \n",
      "                                                                 \n",
      " Dropout1 (Dropout)          (None, 600)               0         \n",
      "                                                                 \n",
      " Dense3 (Dense)              (None, 650)               390650    \n",
      "                                                                 \n",
      " Dense4 (Dense)              (None, 400)               260400    \n",
      "                                                                 \n",
      " Dropout2 (Dropout)          (None, 400)               0         \n",
      "                                                                 \n",
      " Dense5 (Dense)              (None, 200)               80200     \n",
      "                                                                 \n",
      " Output (Dense)              (None, 7)                 1407      \n",
      "                                                                 \n",
      "=================================================================\n",
      "Total params: 1,060,757\n",
      "Trainable params: 1,060,757\n",
      "Non-trainable params: 0\n",
      "_________________________________________________________________\n"
     ]
    }
   ],
   "source": [
    "# Mostramos un resumen de nuestro modelo\n",
    "model.summary()"
   ]
  },
  {
   "cell_type": "code",
   "execution_count": 14,
   "metadata": {},
   "outputs": [
    {
     "name": "stdout",
     "output_type": "stream",
     "text": [
      "Epoch 1/100\n",
      "285/285 [==============================] - 16s 53ms/step - loss: 5.1350 - accuracy: 0.4808 - val_loss: 0.8996 - val_accuracy: 0.6410\n",
      "Epoch 2/100\n",
      "285/285 [==============================] - 19s 65ms/step - loss: 0.8859 - accuracy: 0.6213 - val_loss: 0.8049 - val_accuracy: 0.6657\n",
      "Epoch 3/100\n",
      "285/285 [==============================] - 14s 49ms/step - loss: 0.8145 - accuracy: 0.6553 - val_loss: 0.7443 - val_accuracy: 0.6974\n",
      "Epoch 4/100\n",
      "285/285 [==============================] - 14s 48ms/step - loss: 0.8234 - accuracy: 0.6519 - val_loss: 0.8022 - val_accuracy: 0.6308\n",
      "Epoch 5/100\n",
      "285/285 [==============================] - 15s 53ms/step - loss: 0.7962 - accuracy: 0.6673 - val_loss: 0.8934 - val_accuracy: 0.5448\n",
      "Epoch 6/100\n",
      "285/285 [==============================] - 14s 49ms/step - loss: 0.7722 - accuracy: 0.6793 - val_loss: 0.7672 - val_accuracy: 0.6354\n",
      "Epoch 7/100\n",
      "285/285 [==============================] - 14s 48ms/step - loss: 0.7472 - accuracy: 0.6877 - val_loss: 0.8958 - val_accuracy: 0.5400\n",
      "Epoch 8/100\n",
      "285/285 [==============================] - 14s 48ms/step - loss: 0.7307 - accuracy: 0.6958 - val_loss: 0.8858 - val_accuracy: 0.5610\n",
      "Epoch 9/100\n",
      "285/285 [==============================] - 14s 48ms/step - loss: 0.7185 - accuracy: 0.7010 - val_loss: 0.8740 - val_accuracy: 0.5602\n",
      "Epoch 10/100\n",
      "285/285 [==============================] - 15s 51ms/step - loss: 0.7082 - accuracy: 0.7057 - val_loss: 0.9371 - val_accuracy: 0.5363\n",
      "Epoch 11/100\n",
      "285/285 [==============================] - 14s 49ms/step - loss: 0.7004 - accuracy: 0.7090 - val_loss: 0.9268 - val_accuracy: 0.5451\n",
      "Epoch 12/100\n",
      "285/285 [==============================] - 14s 49ms/step - loss: 0.6827 - accuracy: 0.7167 - val_loss: 0.8644 - val_accuracy: 0.5532\n",
      "Epoch 13/100\n",
      "285/285 [==============================] - 14s 49ms/step - loss: 0.6776 - accuracy: 0.7187 - val_loss: 0.8273 - val_accuracy: 0.5926\n",
      "Epoch 00013: early stopping\n"
     ]
    }
   ],
   "source": [
    "# Creamos un callback para guardar el mejor modelo\n",
    "best_model_callback = callbacks.ModelCheckpoint(\"best_models/best_model_7C.h5\",\n",
    "                                                monitor='val_accuracy',\n",
    "                                                save_best_only=True)\n",
    "\n",
    "# Creamos un callback para parar de entrenear si la variable a monitorizar no mejora más de un 0.01 en 2 epochs \n",
    "early_stopping_callback = callbacks.EarlyStopping(monitor='val_loss', min_delta=0.01, patience=10, \n",
    "                                            verbose=1, mode='auto')\n",
    "\n",
    "# Entrenamos el modelo\n",
    "hist = model.fit(X_train, y_train,\n",
    "                 validation_data=(X_val, y_val), \n",
    "                 epochs=100,        # epoch: número de veces que verá todos los datos\n",
    "                 batch_size=1000, # batch: número de datos que ve por pasada\n",
    "                 callbacks=[early_stopping_callback, best_model_callback],\n",
    "                 verbose=1)\n"
   ]
  },
  {
   "cell_type": "code",
   "execution_count": 15,
   "metadata": {},
   "outputs": [
    {
     "name": "stdout",
     "output_type": "stream",
     "text": [
      "5447/5447 [==============================] - 13s 2ms/step - loss: 0.8293 - accuracy: 0.5926\n"
     ]
    },
    {
     "data": {
      "text/plain": [
       "[0.8292995095252991, 0.5925968289375305]"
      ]
     },
     "execution_count": 15,
     "metadata": {},
     "output_type": "execute_result"
    }
   ],
   "source": [
    "# Evaluamos el modelo con el dataset de test\n",
    "score = model.evaluate(X_test,y_test)\n",
    "score"
   ]
  },
  {
   "cell_type": "code",
   "execution_count": 16,
   "metadata": {},
   "outputs": [
    {
     "data": {
      "image/png": "[encoded data removed]",
      "text/plain": [
       "<Figure size 432x288 with 1 Axes>"
      ]
     },
     "metadata": {
      "needs_background": "light"
     },
     "output_type": "display_data"
    }
   ],
   "source": [
    "# Mostramos el accuracy en validación y test para las epochs\n",
    "%matplotlib inline\n",
    "\n",
    "# Plot training & validation accuracy values\n",
    "plt.plot(hist.history['accuracy'])\n",
    "plt.plot(hist.history['val_accuracy'])\n",
    "plt.title('Model accuracy')\n",
    "plt.ylabel('Accuracy')\n",
    "plt.xlabel('Epoch')\n",
    "plt.legend(['Train', 'Validation'], loc='upper left')\n",
    "plt.show()"
   ]
  },
  {
   "cell_type": "code",
   "execution_count": 20,
   "metadata": {},
   "outputs": [
    {
     "data": {
      "text/plain": [
       "(174304, 7)"
      ]
     },
     "execution_count": 20,
     "metadata": {},
     "output_type": "execute_result"
    }
   ],
   "source": [
    "# Empleamos el modelo para predecir\n",
    "preds_test = model.predict(X_test)\n",
    "preds_test.shape"
   ]
  },
  {
   "cell_type": "code",
   "execution_count": 21,
   "metadata": {},
   "outputs": [
    {
     "name": "stdout",
     "output_type": "stream",
     "text": [
      "[0 1 0 0 0 0 0]\n",
      "['p(y=0|x) = 0.0686', 'p(y=1|x) = 0.8684', 'p(y=2|x) = 0.0067', 'p(y=3|x) = 0.0000', 'p(y=4|x) = 0.0512', 'p(y=5|x) = 0.0049', 'p(y=6|x) = 0.0002']\n"
     ]
    }
   ],
   "source": [
    "# Comprobamos la predicción para un dato en específico\n",
    "idx_mostrar = 1 # Cambiar\n",
    "print(y_test[idx_mostrar,])\n",
    "print([\"p(y=%d|x) = %.4f\"%(i,p) for i,p in enumerate(preds_test[idx_mostrar])])"
   ]
  },
  {
   "cell_type": "code",
   "execution_count": null,
   "metadata": {},
   "outputs": [],
   "source": []
  }
 ],
 "metadata": {
  "interpreter": {
   "hash": "a9e8d72b8c6c4480be022b93ed17c9bc5b1a15d8954b84838886355292abb55f"
  },
  "kernelspec": {
   "display_name": "Python 3.9.7 64-bit ('base': conda)",
   "language": "python",
   "name": "python3"
  },
  "language_info": {
   "codemirror_mode": {
    "name": "ipython",
    "version": 3
   },
   "file_extension": ".py",
   "mimetype": "text/x-python",
   "name": "python",
   "nbconvert_exporter": "python",
   "pygments_lexer": "ipython3",
   "version": "3.9.7"
  },
  "orig_nbformat": 4
 },
 "nbformat": 4,
 "nbformat_minor": 2
}
